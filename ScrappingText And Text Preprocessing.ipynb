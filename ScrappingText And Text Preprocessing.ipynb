{
  "cells": [
    {
      "cell_type": "code",
      "execution_count": null,
      "metadata": {
        "id": "HWcKS-eGtuP_"
      },
      "outputs": [],
      "source": [
        "import numpy as np\n",
        "import pandas as pd\n",
        "import requests\n",
        "from bs4 import BeautifulSoup\n",
        "import re\n",
        "import nltk\n",
        "import string\n",
        "from nltk.stem import WordNetLemmatizer\n",
        "from nltk.corpus import stopwords\n",
        "from nltk.corpus import wordnet"
      ]
    },
    {
      "cell_type": "code",
      "source": [
        "import nltk\n",
        "nltk.download('wordnet')\n",
        "nltk.download('stopwords')"
      ],
      "metadata": {
        "colab": {
          "base_uri": "https://localhost:8080/"
        },
        "id": "wh_FdIJTGm4J",
        "outputId": "18fac98d-dd7f-4633-c154-76e7a52985c2"
      },
      "execution_count": null,
      "outputs": [
        {
          "output_type": "stream",
          "name": "stderr",
          "text": [
            "[nltk_data] Downloading package wordnet to /root/nltk_data...\n",
            "[nltk_data]   Package wordnet is already up-to-date!\n",
            "[nltk_data] Downloading package stopwords to /root/nltk_data...\n",
            "[nltk_data]   Unzipping corpora/stopwords.zip.\n"
          ]
        },
        {
          "output_type": "execute_result",
          "data": {
            "text/plain": [
              "True"
            ]
          },
          "metadata": {},
          "execution_count": 25
        }
      ]
    },
    {
      "cell_type": "code",
      "execution_count": null,
      "metadata": {
        "id": "8XR6GJRjtuQB"
      },
      "outputs": [],
      "source": [
        "def url_script(url):\n",
        "    page = requests.get(url).text\n",
        "    soup = BeautifulSoup(page,'lxml')\n",
        "    text = [ p.text for p in soup.find(class_ = 'elementor-element elementor-element-74af9a5b elementor-widget elementor-widget-theme-post-content').find_all('p') ]\n",
        "    print(url)\n",
        "    return text"
      ]
    },
    {
      "cell_type": "code",
      "execution_count": null,
      "metadata": {
        "colab": {
          "base_uri": "https://localhost:8080/"
        },
        "id": "LCMvtXNptuQC",
        "outputId": "c31b4a7e-112d-4499-a083-3e8ea8917ee1"
      },
      "outputs": [
        {
          "output_type": "stream",
          "name": "stdout",
          "text": [
            "https://scrapsfromtheloft.com/2020/08/23/umberto-eco-narrative-structure-ian-fleming/\n"
          ]
        }
      ],
      "source": [
        "data_text= url_script('https://scrapsfromtheloft.com/2020/08/23/umberto-eco-narrative-structure-ian-fleming/')"
      ]
    },
    {
      "cell_type": "code",
      "execution_count": null,
      "metadata": {
        "scrolled": true,
        "colab": {
          "base_uri": "https://localhost:8080/"
        },
        "id": "R-X5E9PKtuQD",
        "outputId": "c4577bb1-b425-43ac-f3a5-01b54a554473"
      },
      "outputs": [
        {
          "output_type": "stream",
          "name": "stdout",
          "text": [
            "In 1953 Ian Fleming published the first novel in the 007 series, Casino Royale. Being a first work, it is subject to the then current literary influence, and in the fifties, which had abandoned the traditional detective whodunit trail in favour of violent action, it was impossible to ignore the presence of Spillane.\n"
          ]
        }
      ],
      "source": [
        "print(data_text[2])"
      ]
    },
    {
      "cell_type": "code",
      "execution_count": null,
      "metadata": {
        "id": "aiV96uSNtuQD"
      },
      "outputs": [],
      "source": [
        "df_scrap= pd.DataFrame()"
      ]
    },
    {
      "cell_type": "code",
      "execution_count": null,
      "metadata": {
        "id": "UXRHPZ4XtuQE"
      },
      "outputs": [],
      "source": [
        "df_scrap['raw-data']= np.array(data_text)"
      ]
    },
    {
      "cell_type": "code",
      "execution_count": null,
      "metadata": {
        "colab": {
          "base_uri": "https://localhost:8080/",
          "height": 206
        },
        "id": "-f-sMj8AtuQE",
        "outputId": "86b5672f-d1e6-449d-dd7f-c6661cbc354d"
      },
      "outputs": [
        {
          "output_type": "execute_result",
          "data": {
            "text/plain": [
              "                                            raw-data\n",
              "0  In the following excerpt, originally published...\n",
              "1                                     by Umberto Eco\n",
              "2  In 1953 Ian Fleming published the first novel ...\n",
              "3  To Spillane, Casino Royale owes, beyond doubt,...\n",
              "4  In the second place Bond is obsessed by an ima..."
            ],
            "text/html": [
              "\n",
              "  <div id=\"df-3ae3cb30-362e-44dc-b5c5-207dfe00c2ff\" class=\"colab-df-container\">\n",
              "    <div>\n",
              "<style scoped>\n",
              "    .dataframe tbody tr th:only-of-type {\n",
              "        vertical-align: middle;\n",
              "    }\n",
              "\n",
              "    .dataframe tbody tr th {\n",
              "        vertical-align: top;\n",
              "    }\n",
              "\n",
              "    .dataframe thead th {\n",
              "        text-align: right;\n",
              "    }\n",
              "</style>\n",
              "<table border=\"1\" class=\"dataframe\">\n",
              "  <thead>\n",
              "    <tr style=\"text-align: right;\">\n",
              "      <th></th>\n",
              "      <th>raw-data</th>\n",
              "    </tr>\n",
              "  </thead>\n",
              "  <tbody>\n",
              "    <tr>\n",
              "      <th>0</th>\n",
              "      <td>In the following excerpt, originally published...</td>\n",
              "    </tr>\n",
              "    <tr>\n",
              "      <th>1</th>\n",
              "      <td>by Umberto Eco</td>\n",
              "    </tr>\n",
              "    <tr>\n",
              "      <th>2</th>\n",
              "      <td>In 1953 Ian Fleming published the first novel ...</td>\n",
              "    </tr>\n",
              "    <tr>\n",
              "      <th>3</th>\n",
              "      <td>To Spillane, Casino Royale owes, beyond doubt,...</td>\n",
              "    </tr>\n",
              "    <tr>\n",
              "      <th>4</th>\n",
              "      <td>In the second place Bond is obsessed by an ima...</td>\n",
              "    </tr>\n",
              "  </tbody>\n",
              "</table>\n",
              "</div>\n",
              "    <div class=\"colab-df-buttons\">\n",
              "\n",
              "  <div class=\"colab-df-container\">\n",
              "    <button class=\"colab-df-convert\" onclick=\"convertToInteractive('df-3ae3cb30-362e-44dc-b5c5-207dfe00c2ff')\"\n",
              "            title=\"Convert this dataframe to an interactive table.\"\n",
              "            style=\"display:none;\">\n",
              "\n",
              "  <svg xmlns=\"http://www.w3.org/2000/svg\" height=\"24px\" viewBox=\"0 -960 960 960\">\n",
              "    <path d=\"M120-120v-720h720v720H120Zm60-500h600v-160H180v160Zm220 220h160v-160H400v160Zm0 220h160v-160H400v160ZM180-400h160v-160H180v160Zm440 0h160v-160H620v160ZM180-180h160v-160H180v160Zm440 0h160v-160H620v160Z\"/>\n",
              "  </svg>\n",
              "    </button>\n",
              "\n",
              "  <style>\n",
              "    .colab-df-container {\n",
              "      display:flex;\n",
              "      gap: 12px;\n",
              "    }\n",
              "\n",
              "    .colab-df-convert {\n",
              "      background-color: #E8F0FE;\n",
              "      border: none;\n",
              "      border-radius: 50%;\n",
              "      cursor: pointer;\n",
              "      display: none;\n",
              "      fill: #1967D2;\n",
              "      height: 32px;\n",
              "      padding: 0 0 0 0;\n",
              "      width: 32px;\n",
              "    }\n",
              "\n",
              "    .colab-df-convert:hover {\n",
              "      background-color: #E2EBFA;\n",
              "      box-shadow: 0px 1px 2px rgba(60, 64, 67, 0.3), 0px 1px 3px 1px rgba(60, 64, 67, 0.15);\n",
              "      fill: #174EA6;\n",
              "    }\n",
              "\n",
              "    .colab-df-buttons div {\n",
              "      margin-bottom: 4px;\n",
              "    }\n",
              "\n",
              "    [theme=dark] .colab-df-convert {\n",
              "      background-color: #3B4455;\n",
              "      fill: #D2E3FC;\n",
              "    }\n",
              "\n",
              "    [theme=dark] .colab-df-convert:hover {\n",
              "      background-color: #434B5C;\n",
              "      box-shadow: 0px 1px 3px 1px rgba(0, 0, 0, 0.15);\n",
              "      filter: drop-shadow(0px 1px 2px rgba(0, 0, 0, 0.3));\n",
              "      fill: #FFFFFF;\n",
              "    }\n",
              "  </style>\n",
              "\n",
              "    <script>\n",
              "      const buttonEl =\n",
              "        document.querySelector('#df-3ae3cb30-362e-44dc-b5c5-207dfe00c2ff button.colab-df-convert');\n",
              "      buttonEl.style.display =\n",
              "        google.colab.kernel.accessAllowed ? 'block' : 'none';\n",
              "\n",
              "      async function convertToInteractive(key) {\n",
              "        const element = document.querySelector('#df-3ae3cb30-362e-44dc-b5c5-207dfe00c2ff');\n",
              "        const dataTable =\n",
              "          await google.colab.kernel.invokeFunction('convertToInteractive',\n",
              "                                                    [key], {});\n",
              "        if (!dataTable) return;\n",
              "\n",
              "        const docLinkHtml = 'Like what you see? Visit the ' +\n",
              "          '<a target=\"_blank\" href=https://colab.research.google.com/notebooks/data_table.ipynb>data table notebook</a>'\n",
              "          + ' to learn more about interactive tables.';\n",
              "        element.innerHTML = '';\n",
              "        dataTable['output_type'] = 'display_data';\n",
              "        await google.colab.output.renderOutput(dataTable, element);\n",
              "        const docLink = document.createElement('div');\n",
              "        docLink.innerHTML = docLinkHtml;\n",
              "        element.appendChild(docLink);\n",
              "      }\n",
              "    </script>\n",
              "  </div>\n",
              "\n",
              "\n",
              "<div id=\"df-9965c3b4-4ec1-43c5-b9c2-d61b5279eede\">\n",
              "  <button class=\"colab-df-quickchart\" onclick=\"quickchart('df-9965c3b4-4ec1-43c5-b9c2-d61b5279eede')\"\n",
              "            title=\"Suggest charts\"\n",
              "            style=\"display:none;\">\n",
              "\n",
              "<svg xmlns=\"http://www.w3.org/2000/svg\" height=\"24px\"viewBox=\"0 0 24 24\"\n",
              "     width=\"24px\">\n",
              "    <g>\n",
              "        <path d=\"M19 3H5c-1.1 0-2 .9-2 2v14c0 1.1.9 2 2 2h14c1.1 0 2-.9 2-2V5c0-1.1-.9-2-2-2zM9 17H7v-7h2v7zm4 0h-2V7h2v10zm4 0h-2v-4h2v4z\"/>\n",
              "    </g>\n",
              "</svg>\n",
              "  </button>\n",
              "\n",
              "<style>\n",
              "  .colab-df-quickchart {\n",
              "      --bg-color: #E8F0FE;\n",
              "      --fill-color: #1967D2;\n",
              "      --hover-bg-color: #E2EBFA;\n",
              "      --hover-fill-color: #174EA6;\n",
              "      --disabled-fill-color: #AAA;\n",
              "      --disabled-bg-color: #DDD;\n",
              "  }\n",
              "\n",
              "  [theme=dark] .colab-df-quickchart {\n",
              "      --bg-color: #3B4455;\n",
              "      --fill-color: #D2E3FC;\n",
              "      --hover-bg-color: #434B5C;\n",
              "      --hover-fill-color: #FFFFFF;\n",
              "      --disabled-bg-color: #3B4455;\n",
              "      --disabled-fill-color: #666;\n",
              "  }\n",
              "\n",
              "  .colab-df-quickchart {\n",
              "    background-color: var(--bg-color);\n",
              "    border: none;\n",
              "    border-radius: 50%;\n",
              "    cursor: pointer;\n",
              "    display: none;\n",
              "    fill: var(--fill-color);\n",
              "    height: 32px;\n",
              "    padding: 0;\n",
              "    width: 32px;\n",
              "  }\n",
              "\n",
              "  .colab-df-quickchart:hover {\n",
              "    background-color: var(--hover-bg-color);\n",
              "    box-shadow: 0 1px 2px rgba(60, 64, 67, 0.3), 0 1px 3px 1px rgba(60, 64, 67, 0.15);\n",
              "    fill: var(--button-hover-fill-color);\n",
              "  }\n",
              "\n",
              "  .colab-df-quickchart-complete:disabled,\n",
              "  .colab-df-quickchart-complete:disabled:hover {\n",
              "    background-color: var(--disabled-bg-color);\n",
              "    fill: var(--disabled-fill-color);\n",
              "    box-shadow: none;\n",
              "  }\n",
              "\n",
              "  .colab-df-spinner {\n",
              "    border: 2px solid var(--fill-color);\n",
              "    border-color: transparent;\n",
              "    border-bottom-color: var(--fill-color);\n",
              "    animation:\n",
              "      spin 1s steps(1) infinite;\n",
              "  }\n",
              "\n",
              "  @keyframes spin {\n",
              "    0% {\n",
              "      border-color: transparent;\n",
              "      border-bottom-color: var(--fill-color);\n",
              "      border-left-color: var(--fill-color);\n",
              "    }\n",
              "    20% {\n",
              "      border-color: transparent;\n",
              "      border-left-color: var(--fill-color);\n",
              "      border-top-color: var(--fill-color);\n",
              "    }\n",
              "    30% {\n",
              "      border-color: transparent;\n",
              "      border-left-color: var(--fill-color);\n",
              "      border-top-color: var(--fill-color);\n",
              "      border-right-color: var(--fill-color);\n",
              "    }\n",
              "    40% {\n",
              "      border-color: transparent;\n",
              "      border-right-color: var(--fill-color);\n",
              "      border-top-color: var(--fill-color);\n",
              "    }\n",
              "    60% {\n",
              "      border-color: transparent;\n",
              "      border-right-color: var(--fill-color);\n",
              "    }\n",
              "    80% {\n",
              "      border-color: transparent;\n",
              "      border-right-color: var(--fill-color);\n",
              "      border-bottom-color: var(--fill-color);\n",
              "    }\n",
              "    90% {\n",
              "      border-color: transparent;\n",
              "      border-bottom-color: var(--fill-color);\n",
              "    }\n",
              "  }\n",
              "</style>\n",
              "\n",
              "  <script>\n",
              "    async function quickchart(key) {\n",
              "      const quickchartButtonEl =\n",
              "        document.querySelector('#' + key + ' button');\n",
              "      quickchartButtonEl.disabled = true;  // To prevent multiple clicks.\n",
              "      quickchartButtonEl.classList.add('colab-df-spinner');\n",
              "      try {\n",
              "        const charts = await google.colab.kernel.invokeFunction(\n",
              "            'suggestCharts', [key], {});\n",
              "      } catch (error) {\n",
              "        console.error('Error during call to suggestCharts:', error);\n",
              "      }\n",
              "      quickchartButtonEl.classList.remove('colab-df-spinner');\n",
              "      quickchartButtonEl.classList.add('colab-df-quickchart-complete');\n",
              "    }\n",
              "    (() => {\n",
              "      let quickchartButtonEl =\n",
              "        document.querySelector('#df-9965c3b4-4ec1-43c5-b9c2-d61b5279eede button');\n",
              "      quickchartButtonEl.style.display =\n",
              "        google.colab.kernel.accessAllowed ? 'block' : 'none';\n",
              "    })();\n",
              "  </script>\n",
              "</div>\n",
              "    </div>\n",
              "  </div>\n"
            ]
          },
          "metadata": {},
          "execution_count": 22
        }
      ],
      "source": [
        "df_scrap.head()"
      ]
    },
    {
      "cell_type": "code",
      "execution_count": null,
      "metadata": {
        "id": "W3x5zB0StuQE"
      },
      "outputs": [],
      "source": [
        "df_scrap.to_csv(\"scrap_raw_data.csv\", index=True)"
      ]
    },
    {
      "cell_type": "markdown",
      "metadata": {
        "id": "wykSW0gctuQE"
      },
      "source": [
        "# PreProcessing"
      ]
    },
    {
      "cell_type": "code",
      "execution_count": null,
      "metadata": {
        "colab": {
          "base_uri": "https://localhost:8080/"
        },
        "id": "YDa-0fq5tuQG",
        "outputId": "b40b39ae-7f75-4e63-86aa-b8d4af08a6e6"
      },
      "outputs": [
        {
          "output_type": "execute_result",
          "data": {
            "text/plain": [
              "124"
            ]
          },
          "metadata": {},
          "execution_count": 9
        }
      ],
      "source": [
        "len(data_text)"
      ]
    },
    {
      "cell_type": "code",
      "execution_count": null,
      "metadata": {
        "id": "7SNpkg2EtuQG"
      },
      "outputs": [],
      "source": [
        "documents = []\n",
        "stemmer = WordNetLemmatizer()\n",
        "for i in range(0, len(data_text)):\n",
        "    # Remove all the special characters\n",
        "    doc = re.sub(r'\\W', ' ', str( data_text[i]))\n",
        "\n",
        "    # remove all punctuations\n",
        "    doc = re.sub(re.escape(string.punctuation), '', doc)\n",
        "\n",
        "    # remove all single characters\n",
        "    doc = re.sub(r'\\s+[a-zA-Z]\\s+', ' ',  doc)\n",
        "\n",
        "    # Remove single characters from the start\n",
        "    doc = re.sub(r'\\^[a-zA-Z]\\s+', ' ',  doc)\n",
        "\n",
        "    # Substituting multiple spaces with single space\n",
        "    doc = re.sub(r'\\s+', ' ',  doc, flags=re.I)\n",
        "\n",
        "    # Removing prefixed 'b'\n",
        "    doc = re.sub(r'^b\\s+', '',  doc)\n",
        "\n",
        "    # Converting to Lowercase\n",
        "    doc = doc.lower()\n",
        "\n",
        "    # Lemmatization\n",
        "    doc =  doc.split()\n",
        "    doc = [stemmer.lemmatize(word) for word in  doc]\n",
        "    doc = ' '.join( doc)\n",
        "    doc = [ word for word in  doc.split() if word not in stopwords.words(\"english\")]\n",
        "    doc = ' '.join( doc)\n",
        "\n",
        "    documents.append( doc)\n"
      ]
    },
    {
      "cell_type": "code",
      "execution_count": null,
      "metadata": {
        "id": "U4HvyhqXtuQH",
        "outputId": "fd0d442a-976b-4391-cd64-ccd34916935f",
        "colab": {
          "base_uri": "https://localhost:8080/",
          "height": 36
        }
      },
      "outputs": [
        {
          "output_type": "execute_result",
          "data": {
            "text/plain": [
              "'following excerpt originally published italian 1965 eco offer detailed examination narrative formula fleming employed bond novel strategy eco regard basis success 007 saga'"
            ],
            "application/vnd.google.colaboratory.intrinsic+json": {
              "type": "string"
            }
          },
          "metadata": {},
          "execution_count": 27
        }
      ],
      "source": [
        "documents[0]"
      ]
    },
    {
      "cell_type": "code",
      "execution_count": null,
      "metadata": {
        "id": "N6GKbVh9tuQH"
      },
      "outputs": [],
      "source": [
        "df = pd.DataFrame()\n",
        "df['original']= data_text\n",
        "df[\"Document\"]= documents"
      ]
    },
    {
      "cell_type": "code",
      "execution_count": null,
      "metadata": {
        "id": "UgNAm1IXtuQI"
      },
      "outputs": [],
      "source": [
        "df.to_csv(\"clean_data.csv\", index=False)"
      ]
    },
    {
      "cell_type": "code",
      "execution_count": null,
      "metadata": {
        "id": "PoIwd90NtuQI"
      },
      "outputs": [],
      "source": [
        "df= pd.read_csv('clean_data.csv')"
      ]
    },
    {
      "cell_type": "code",
      "execution_count": null,
      "metadata": {
        "id": "gPBKzxNytuQI",
        "outputId": "cd8c287b-7c24-49be-a618-3e3efbb936eb"
      },
      "outputs": [
        {
          "data": {
            "text/html": [
              "<div>\n",
              "<style scoped>\n",
              "    .dataframe tbody tr th:only-of-type {\n",
              "        vertical-align: middle;\n",
              "    }\n",
              "\n",
              "    .dataframe tbody tr th {\n",
              "        vertical-align: top;\n",
              "    }\n",
              "\n",
              "    .dataframe thead th {\n",
              "        text-align: right;\n",
              "    }\n",
              "</style>\n",
              "<table border=\"1\" class=\"dataframe\">\n",
              "  <thead>\n",
              "    <tr style=\"text-align: right;\">\n",
              "      <th></th>\n",
              "      <th>original</th>\n",
              "      <th>Document</th>\n",
              "    </tr>\n",
              "  </thead>\n",
              "  <tbody>\n",
              "    <tr>\n",
              "      <th>0</th>\n",
              "      <td>In the following excerpt, originally published...</td>\n",
              "      <td>following excerpt originally published italian...</td>\n",
              "    </tr>\n",
              "    <tr>\n",
              "      <th>1</th>\n",
              "      <td>by Umberto Eco</td>\n",
              "      <td>umberto eco</td>\n",
              "    </tr>\n",
              "    <tr>\n",
              "      <th>2</th>\n",
              "      <td>In 1953 Ian Fleming published the first novel ...</td>\n",
              "      <td>1953 ian fleming published first novel 007 ser...</td>\n",
              "    </tr>\n",
              "    <tr>\n",
              "      <th>3</th>\n",
              "      <td>To Spillane, Casino Royale owes, beyond doubt,...</td>\n",
              "      <td>spillane casino royale owes beyond doubt least...</td>\n",
              "    </tr>\n",
              "    <tr>\n",
              "      <th>4</th>\n",
              "      <td>In the second place Bond is obsessed by an ima...</td>\n",
              "      <td>second place bond obsessed image japanese expe...</td>\n",
              "    </tr>\n",
              "  </tbody>\n",
              "</table>\n",
              "</div>"
            ],
            "text/plain": [
              "                                            original  \\\n",
              "0  In the following excerpt, originally published...   \n",
              "1                                     by Umberto Eco   \n",
              "2  In 1953 Ian Fleming published the first novel ...   \n",
              "3  To Spillane, Casino Royale owes, beyond doubt,...   \n",
              "4  In the second place Bond is obsessed by an ima...   \n",
              "\n",
              "                                            Document  \n",
              "0  following excerpt originally published italian...  \n",
              "1                                        umberto eco  \n",
              "2  1953 ian fleming published first novel 007 ser...  \n",
              "3  spillane casino royale owes beyond doubt least...  \n",
              "4  second place bond obsessed image japanese expe...  "
            ]
          },
          "execution_count": 16,
          "metadata": {},
          "output_type": "execute_result"
        }
      ],
      "source": [
        "df.head()"
      ]
    },
    {
      "cell_type": "code",
      "execution_count": null,
      "metadata": {
        "id": "GasZTleBtuQI",
        "outputId": "86635917-c0bc-4707-f313-d3a7d840f686"
      },
      "outputs": [
        {
          "name": "stdout",
          "output_type": "stream",
          "text": [
            "following//excerpt//originally published italian 1965 eco offer detailed examination narrative formula fleming employed bond novel strategy eco regard basis success 007 saga\n"
          ]
        }
      ],
      "source": [
        "x = re.sub(\"\\s\", \"//\", df[\"Document\"][0], 2)\n",
        "print(x)"
      ]
    },
    {
      "cell_type": "code",
      "execution_count": null,
      "metadata": {
        "id": "4l20rsFituQI",
        "outputId": "ce3de033-a4d2-41f8-80ec-30854c4011a5"
      },
      "outputs": [
        {
          "name": "stdout",
          "output_type": "stream",
          "text": [
            "<re.Match object; span=(5, 7), match='ai'>\n"
          ]
        }
      ],
      "source": [
        "txt = \"The rain in Spain\"\n",
        "x = re.search(\"ai\", txt)\n",
        "print(x) #this will print an object"
      ]
    },
    {
      "cell_type": "code",
      "execution_count": null,
      "metadata": {
        "id": "EJ6E6DdItuQJ",
        "outputId": "0eafb605-a61f-4936-8652-1268f3244c6e"
      },
      "outputs": [
        {
          "name": "stdout",
          "output_type": "stream",
          "text": [
            "['succ']\n",
            "Yes, there is at least one match!\n"
          ]
        }
      ],
      "source": [
        "#Check if the string contains \"a\" followed by exactly two \"c\" characters:\n",
        "\n",
        "x = re.findall(\"suc{2}\", df[\"Document\"][0])\n",
        "\n",
        "print(x)\n",
        "\n",
        "if x:\n",
        "  print(\"Yes, there is at least one match!\")\n",
        "else:\n",
        "  print(\"No match\")\n"
      ]
    },
    {
      "cell_type": "code",
      "execution_count": null,
      "metadata": {
        "id": "ugz9d27MtuQJ",
        "outputId": "3e468aa7-2e02-4b41-b2f9-a528278c1e5d"
      },
      "outputs": [
        {
          "name": "stdout",
          "output_type": "stream",
          "text": [
            "['bond', '007', 'saga']\n",
            "Yes, there is at least one match!\n"
          ]
        }
      ],
      "source": [
        "#Check if the string contains either \"bond\" or \"saga\":\n",
        "\n",
        "x = re.findall(\"bond|saga|007\", df[\"Document\"][0])\n",
        "\n",
        "print(x)\n",
        "\n",
        "if x:\n",
        "  print(\"Yes, there is at least one match!\")\n",
        "else:\n",
        "  print(\"No match\")"
      ]
    },
    {
      "cell_type": "code",
      "execution_count": null,
      "metadata": {
        "id": "-eX6QvMituQK",
        "outputId": "5cd82e1f-b20a-4fc2-ecf6-62b10478d5af"
      },
      "outputs": [
        {
          "name": "stdout",
          "output_type": "stream",
          "text": [
            "['succ']\n",
            "Yes, there is at least one match!\n"
          ]
        }
      ],
      "source": [
        "#Check if the string contains \"ai\" followed by 1 or more \"c\" characters:\n",
        "\n",
        "x = re.findall(\"suc+\", df[\"Document\"][0])\n",
        "#x = re.findall(\"suc*\", df[\"Document\"][0])  #Check if the string contains \"ai\" followed by 0 or more \"c\" characters:\n",
        "\n",
        "print(x)\n",
        "\n",
        "if x:\n",
        "  print(\"Yes, there is at least one match!\")\n",
        "else:\n",
        "  print(\"No match\")"
      ]
    },
    {
      "cell_type": "code",
      "execution_count": null,
      "metadata": {
        "id": "08Z3MJ93tuQK",
        "outputId": "e9a92432-da94-46ea-f4e7-2e70bfaafb15"
      },
      "outputs": [
        {
          "name": "stdout",
          "output_type": "stream",
          "text": [
            "Yes, the string ends with ['saga']\n"
          ]
        }
      ],
      "source": [
        "#Check if the string ends with 'saga':\n",
        "\n",
        "x = re.findall(\"saga$\", df[\"Document\"][0])\n",
        "if x:\n",
        "  print(f\"Yes, the string ends with {x}\")\n",
        "else:\n",
        "  print(\"No match\")"
      ]
    },
    {
      "cell_type": "code",
      "execution_count": null,
      "metadata": {
        "id": "7y7kzB-7tuQK",
        "outputId": "3992ced3-2ff8-4d96-c034-9c508ef71ebd"
      },
      "outputs": [
        {
          "name": "stdout",
          "output_type": "stream",
          "text": [
            "Yes, the string starts with 'hello'\n"
          ]
        }
      ],
      "source": [
        "#Check if the string starts with 'following':\n",
        "\n",
        "x = re.findall(\"^following\", df[\"Document\"][0])\n",
        "if x:\n",
        "  print(\"Yes, the string starts with 'hello'\")\n",
        "else:\n",
        "  print(\"No match\")"
      ]
    },
    {
      "cell_type": "code",
      "execution_count": null,
      "metadata": {
        "id": "SJIcFP3ctuQK",
        "outputId": "26a2bd39-4113-4bb3-f05c-d81b0c39eaa0"
      },
      "outputs": [
        {
          "name": "stdout",
          "output_type": "stream",
          "text": [
            "['italian']\n"
          ]
        }
      ],
      "source": [
        "#Search for a sequence that starts with \"it\", followed by two (any) characters, and an \"n\": alian\n",
        "\n",
        "x = re.findall(\"it....n\", df[\"Document\"][0])\n",
        "print(x)"
      ]
    },
    {
      "cell_type": "code",
      "execution_count": null,
      "metadata": {
        "id": "pToNgzWLtuQK",
        "outputId": "45df38ae-983e-4d9c-b832-bccf107af6de"
      },
      "outputs": [
        {
          "name": "stdout",
          "output_type": "stream",
          "text": [
            "['1', '9', '6', '5', '0', '0', '7']\n"
          ]
        }
      ],
      "source": [
        "#Find all digit characters:\n",
        "\n",
        "x = re.findall(\"\\d\", df[\"Document\"][0])\n",
        "print(x)\n"
      ]
    },
    {
      "cell_type": "code",
      "execution_count": null,
      "metadata": {
        "id": "FvlKqeWEtuQL",
        "outputId": "8b914cdd-e4d3-4caa-c946-0e92d34dcc67"
      },
      "outputs": [
        {
          "name": "stdout",
          "output_type": "stream",
          "text": [
            "['saga']\n",
            "Yes, there is a match!\n"
          ]
        }
      ],
      "source": [
        "#Check if the string ends with \"Spain\":\n",
        "\n",
        "x = re.findall(\"saga\\Z\", df[\"Document\"][0])\n",
        "\n",
        "print(x)\n",
        "\n",
        "if x:\n",
        "  print(\"Yes, there is a match!\")\n",
        "else:\n",
        "  print(\"No match\")"
      ]
    },
    {
      "cell_type": "code",
      "execution_count": null,
      "metadata": {
        "id": "52GACyh_tuQL",
        "outputId": "13df0806-64ae-4eda-e8bb-cc4cbbe86d16"
      },
      "outputs": [
        {
          "name": "stdout",
          "output_type": "stream",
          "text": [
            "[' ', ' ', ' ', ', ', ' ', ' ', ' ', ' ', ' ', ', ', ' ', ' ', ' ', ' ', ' ', ' ', ' ', ' ', ' ', ' ', ' ', ' ', ' ', ' ', ' ', ' ', ', ', ' ', ' ', ' ', ' ', ' “', ' ', ' ', ' ', ' ', ' ', ' ', ' ‘', '’ ', '.”']\n",
            "Yes, there is at least one match!\n"
          ]
        }
      ],
      "source": [
        "#Return a match at every NON word character (characters NOT between a and Z. Like \"!\", \"?\" white-space etc.):\n",
        "\n",
        "x = re.findall(\"\\W+\",  df[\"original\"][0])\n",
        "\n",
        "print(x)\n",
        "\n",
        "if x:\n",
        "  print(\"Yes, there is at least one match!\")\n",
        "else:\n",
        "  print(\"No match\")"
      ]
    },
    {
      "cell_type": "code",
      "execution_count": null,
      "metadata": {
        "id": "E6KwGDbEtuQL",
        "outputId": "23076685-ca0c-4374-926f-85ea58127f0f"
      },
      "outputs": [
        {
          "name": "stdout",
          "output_type": "stream",
          "text": [
            "In  the  following  excerpt   originally  published  in  Italian  in  1965   Eco  offers  a  detailed  examination  of  the  narrative  formula  that  Fleming  employed  in  all  the  Bond  novels   a  strategy  Eco  regards  as   the  basis  of  the  success  of  the   007   saga   \n",
            "Yes, there is at least one match!\n"
          ]
        }
      ],
      "source": [
        "#Return a match at every word character (characters from a to Z, digits from 0-9, and the underscore _ character):\n",
        "\n",
        "x = re.findall(\"\\w*\", df[\"original\"][0])\n",
        "\n",
        "print(\" \".join(x))\n",
        "\n",
        "if x:\n",
        "  print(\"Yes, there is at least one match!\")\n",
        "else:\n",
        "  print(\"No match\")\n"
      ]
    },
    {
      "cell_type": "code",
      "execution_count": null,
      "metadata": {
        "id": "Hc6IgX3qtuQL",
        "outputId": "0e6f65de-2b59-4869-ca9d-e3e2e91834a4"
      },
      "outputs": [
        {
          "name": "stdout",
          "output_type": "stream",
          "text": [
            "['I', 'n', 't', 'h', 'e', 'f', 'o', 'l', 'l', 'o', 'w', 'i', 'n', 'g', 'e', 'x', 'c', 'e', 'r', 'p', 't', ',', 'o', 'r', 'i', 'g', 'i', 'n', 'a', 'l', 'l', 'y', 'p', 'u', 'b', 'l', 'i', 's', 'h', 'e', 'd', 'i', 'n', 'I', 't', 'a', 'l', 'i', 'a', 'n', 'i', 'n', '1', '9', '6', '5', ',', 'E', 'c', 'o', 'o', 'f', 'f', 'e', 'r', 's', 'a', 'd', 'e', 't', 'a', 'i', 'l', 'e', 'd', 'e', 'x', 'a', 'm', 'i', 'n', 'a', 't', 'i', 'o', 'n', 'o', 'f', 't', 'h', 'e', 'n', 'a', 'r', 'r', 'a', 't', 'i', 'v', 'e', 'f', 'o', 'r', 'm', 'u', 'l', 'a', 't', 'h', 'a', 't', 'F', 'l', 'e', 'm', 'i', 'n', 'g', 'e', 'm', 'p', 'l', 'o', 'y', 'e', 'd', 'i', 'n', 'a', 'l', 'l', 't', 'h', 'e', 'B', 'o', 'n', 'd', 'n', 'o', 'v', 'e', 'l', 's', ',', 'a', 's', 't', 'r', 'a', 't', 'e', 'g', 'y', 'E', 'c', 'o', 'r', 'e', 'g', 'a', 'r', 'd', 's', 'a', 's', '“', 't', 'h', 'e', 'b', 'a', 's', 'i', 's', 'o', 'f', 't', 'h', 'e', 's', 'u', 'c', 'c', 'e', 's', 's', 'o', 'f', 't', 'h', 'e', '‘', '0', '0', '7', '’', 's', 'a', 'g', 'a', '.', '”']\n",
            "Yes, there is at least one match!\n"
          ]
        }
      ],
      "source": [
        "#Return a match at every NON white-space character:\n",
        "\n",
        "x = re.findall(\"\\S\", df[\"original\"][0])\n",
        "\n",
        "print(x)\n",
        "\n",
        "if x:\n",
        "  print(\"Yes, there is at least one match!\")\n",
        "else:\n",
        "  print(\"No match\")"
      ]
    },
    {
      "cell_type": "code",
      "execution_count": null,
      "metadata": {
        "id": "p2m54cCmtuQM",
        "outputId": "4df87d69-c2d5-4dcf-f283-08fe6e1d3848"
      },
      "outputs": [
        {
          "name": "stdout",
          "output_type": "stream",
          "text": [
            "[' ', ' ', ' ', ' ', ' ', ' ', ' ', ' ', ' ', ' ', ' ', ' ', ' ', ' ', ' ', ' ', ' ', ' ', ' ', ' ', ' ', ' ', ' ', ' ', ' ', ' ', ' ', ' ', ' ', ' ', ' ', ' ', ' ', ' ', ' ', ' ', ' ', ' ', ' ', ' ']\n",
            "Yes, there is at least one match!\n"
          ]
        }
      ],
      "source": [
        "x = re.findall(\"\\s\", df[\"original\"][0])\n",
        "\n",
        "print(x)\n",
        "\n",
        "if x:\n",
        "  print(\"Yes, there is at least one match!\")\n",
        "else:\n",
        "  print(\"No match\")"
      ]
    },
    {
      "cell_type": "code",
      "execution_count": null,
      "metadata": {
        "id": "fADsV9n1tuQM",
        "outputId": "4019594d-d7c7-4d0f-fcf8-c21a768f2bdb"
      },
      "outputs": [
        {
          "name": "stdout",
          "output_type": "stream",
          "text": [
            "In the following excerpt, originally published in Italian in , Eco offers a detailed examination of the narrative formula that Fleming employed in all the Bond novels, a strategy Eco regards as “the basis of the success of the ‘’ saga.”\n",
            "Yes, there is at least one match!\n"
          ]
        }
      ],
      "source": [
        "#Return a match at every no-digit character:\n",
        "\n",
        "x = re.findall(\"\\D\", df[\"original\"][0])\n",
        "\n",
        "print(\"\".join(x))\n",
        "\n",
        "if x:\n",
        "  print(\"Yes, there is at least one match!\")\n",
        "else:\n",
        "  print(\"No match\")"
      ]
    },
    {
      "cell_type": "code",
      "execution_count": null,
      "metadata": {
        "id": "hpkNpvDJtuQM",
        "outputId": "df3250a2-6ca4-4a77-ac53-ca9497ff1e06"
      },
      "outputs": [
        {
          "name": "stdout",
          "output_type": "stream",
          "text": [
            "['', '', '', '', '', '', '', '', '', '', '', '', '', '', '', '', '', '', '', '', '', '', '', '', '', '', '', '', '', '', '', '', '', '', '', '', '', '', '', '', '', '', '', '', '', '', '', '', '', '', '', '', '', '', '', '', '', '', '', '', '', '1965', '', '', '', '', '', '', '', '', '', '', '', '', '', '', '', '', '', '', '', '', '', '', '', '', '', '', '', '', '', '', '', '', '', '', '', '', '', '', '', '', '', '', '', '', '', '', '', '', '', '', '', '', '', '', '', '', '', '', '', '', '', '', '', '', '', '', '', '', '', '', '', '', '', '', '', '', '', '', '', '', '', '', '', '', '', '', '', '', '', '', '', '', '', '', '', '', '', '', '', '', '', '', '', '', '', '', '', '', '', '', '', '', '', '', '', '', '', '', '', '', '', '', '', '', '', '', '', '', '', '', '', '', '', '', '', '', '', '', '', '', '', '', '', '', '', '', '', '', '', '', '', '', '', '', '', '', '', '', '', '', '', '', '', '', '', '', '', '007', '', '', '', '', '', '', '', '', '']\n",
            "Yes, there is at least one match!\n"
          ]
        }
      ],
      "source": [
        "#Check if the string contains any digits (numbers from 0-9):\n",
        "\n",
        "x = re.findall(\"\\d*\", df[\"original\"][0])\n",
        "\n",
        "print(x)\n",
        "\n",
        "if x:\n",
        "  print(\"Yes, there is at least one match!\")\n",
        "else:\n",
        "  print(\"No match\")"
      ]
    },
    {
      "cell_type": "code",
      "execution_count": null,
      "metadata": {
        "id": "RMOF8qNbtuQM",
        "outputId": "32509b2a-4ba2-4bba-e3c3-325cd7aa2fff"
      },
      "outputs": [
        {
          "name": "stdout",
          "output_type": "stream",
          "text": [
            "['1965', '007']\n",
            "Yes, there is at least one match!\n"
          ]
        }
      ],
      "source": [
        "#Check if the string contains any digits (numbers from 0-9):\n",
        "\n",
        "x = re.findall(\"\\d+\", df[\"original\"][0])\n",
        "\n",
        "print(x)\n",
        "\n",
        "if x:\n",
        "  print(\"Yes, there is at least one match!\")\n",
        "else:\n",
        "  print(\"No match\")"
      ]
    },
    {
      "cell_type": "code",
      "execution_count": null,
      "metadata": {
        "id": "H36qS2VctuQN",
        "outputId": "d76e9cfa-dbf5-45e3-dfb9-7929fcdf2b70"
      },
      "outputs": [
        {
          "name": "stdout",
          "output_type": "stream",
          "text": [
            "['ally']\n",
            "Yes, there is at least one match!\n"
          ]
        }
      ],
      "source": [
        "#Check if \"ally\" is present, but NOT at the beginning of a word:\n",
        "\n",
        "x = re.findall(r\"\\Bally\", df[\"original\"][0])\n",
        "\n",
        "print(x)\n",
        "\n",
        "if x:\n",
        "  print(\"Yes, there is at least one match!\")\n",
        "else:\n",
        "  print(\"No match\")"
      ]
    },
    {
      "cell_type": "code",
      "execution_count": null,
      "metadata": {
        "id": "7RaXwUg2tuQN",
        "outputId": "34bbeffc-1d95-4dcb-db3b-672185e9eb91"
      },
      "outputs": [
        {
          "name": "stdout",
          "output_type": "stream",
          "text": [
            "['sa']\n",
            "Yes, there is at least one match!\n"
          ]
        }
      ],
      "source": [
        "#Check if \"sa\" is present at the beginning of a WORD: saga\n",
        "\n",
        "x = re.findall(r\"\\bsa\", df[\"original\"][0])\n",
        "\n",
        "print(x)\n",
        "\n",
        "if x:\n",
        "  print(\"Yes, there is at least one match!\")\n",
        "else:\n",
        "  print(\"No match\")"
      ]
    },
    {
      "cell_type": "code",
      "execution_count": null,
      "metadata": {
        "id": "0K1v1eNjtuQN",
        "outputId": "abf4cb96-2257-4b54-98be-86a916d18f07"
      },
      "outputs": [
        {
          "name": "stdout",
          "output_type": "stream",
          "text": [
            "['ga']\n",
            "Yes, there is at least one match!\n"
          ]
        }
      ],
      "source": [
        "#Check if \"ga\" is present at the end of a WORD: saga\n",
        "\n",
        "x = re.findall(r\"ga\\b\", df[\"original\"][0])\n",
        "\n",
        "print(x)\n",
        "\n",
        "if x:\n",
        "  print(\"Yes, there is at least one match!\")\n",
        "else:\n",
        "  print(\"No match\")"
      ]
    },
    {
      "cell_type": "code",
      "execution_count": null,
      "metadata": {
        "id": "BOWP_HB6tuQN",
        "outputId": "820a4cab-628d-4b8d-97a5-cc6dbfde4436"
      },
      "outputs": [
        {
          "data": {
            "text/plain": [
              "'In the following excerpt, originally published in Italian in 1965, Eco offers a detailed examination of the narrative formula that Fleming employed in all the Bond novels, a strategy Eco regards as “the basis of the success of the ‘007’ saga.”'"
            ]
          },
          "execution_count": 40,
          "metadata": {},
          "output_type": "execute_result"
        }
      ],
      "source": [
        "df[\"original\"][0]"
      ]
    },
    {
      "cell_type": "code",
      "execution_count": null,
      "metadata": {
        "id": "vjm3ve_KtuQN",
        "outputId": "23765758-c8cb-43c8-9226-52f031dd2c9c"
      },
      "outputs": [
        {
          "name": "stdout",
          "output_type": "stream",
          "text": [
            "['In']\n",
            "Yes, there is a match!\n"
          ]
        }
      ],
      "source": [
        "#Check if the string starts with \"The\":\n",
        "\n",
        "x = re.findall(\"\\AIn\", df[\"original\"][0])\n",
        "\n",
        "print(x)\n",
        "\n",
        "if x:\n",
        "  print(\"Yes, there is a match!\")\n",
        "else:\n",
        "  print(\"No match\")"
      ]
    },
    {
      "cell_type": "code",
      "execution_count": null,
      "metadata": {
        "id": "BQLBVhTptuQO",
        "outputId": "9efc604b-ffe5-477e-afb0-b94bd7d8d77e"
      },
      "outputs": [
        {
          "name": "stdout",
          "output_type": "stream",
          "text": [
            "['fo', 'o', 'o', 'o', 'off', 'o', 'of', 'fo', 'o', 'o', 'o', 'o', 'of', 'of']\n",
            "Yes, there is at least one match!\n"
          ]
        }
      ],
      "source": [
        "#Check if the string has any \"of\" characters:\n",
        "\n",
        "x = re.findall(\"[of]+\", df[\"original\"][0])\n",
        "\n",
        "print(x)\n",
        "\n",
        "if x:\n",
        "  print(\"Yes, there is at least one match!\")\n",
        "else:\n",
        "  print(\"No match\")\n"
      ]
    },
    {
      "cell_type": "code",
      "execution_count": null,
      "metadata": {
        "id": "nezWmY4ftuQT",
        "outputId": "f9b98646-b391-4c3f-d971-06f456a9be2e"
      },
      "outputs": [
        {
          "name": "stdout",
          "output_type": "stream",
          "text": [
            "['n', 'he', 'f', 'll', 'ing', 'e', 'ce', 'iginall', 'bli', 'hed', 'in', 'alian', 'in', 'c', 'ffe', 'a', 'de', 'ailed', 'e', 'amina', 'i', 'n', 'f', 'he', 'na', 'a', 'i', 'e', 'f', 'm', 'la', 'ha', 'leming', 'em', 'l', 'ed', 'in', 'all', 'he', 'nd', 'n', 'el', 'a', 'a', 'eg', 'c', 'ega', 'd', 'a', 'he', 'ba', 'i', 'f', 'he', 'cce', 'f', 'he', 'aga']\n",
            "Yes, there is at least one match!\n"
          ]
        }
      ],
      "source": [
        "#Check if the string has any characters between a and n:\n",
        "\n",
        "x = re.findall(\"[a-n]+\", df[\"original\"][0])\n",
        "\n",
        "print(x)\n",
        "\n",
        "if x:\n",
        "  print(\"Yes, there is at least one match!\")\n",
        "else:\n",
        "  print(\"No match\")"
      ]
    },
    {
      "cell_type": "code",
      "execution_count": null,
      "metadata": {
        "id": "HZV8OuYvtuQU",
        "outputId": "23ed4f36-059c-449c-f8cc-4ab0245c38b8"
      },
      "outputs": [
        {
          "name": "stdout",
          "output_type": "stream",
          "text": [
            "['I', ' the f', 'll', 'wi', 'g excerpt, ', 'rigi', 'ally publishe', ' i', ' Italia', ' i', ' 1965, Ec', ' ', 'ffers a ', 'etaile', ' exami', 'ati', ' ', 'f the ', 'arrative f', 'rmula that Flemi', 'g empl', 'ye', ' i', ' all the B', ' ', 'vels, a strategy Ec', ' regar', 's as “the basis ', 'f the success ', 'f the ‘007’ saga.”']\n",
            "Yes, there is at least one match!\n"
          ]
        }
      ],
      "source": [
        "#Check if the string has other characters than 0, d, or n:\n",
        "\n",
        "x = re.findall(\"[^ond]+\", df[\"original\"][0])\n",
        "\n",
        "print(x)\n",
        "\n",
        "if x:\n",
        "  print(\"Yes, there is at least one match!\")\n",
        "else:\n",
        "  print(\"No match\")"
      ]
    },
    {
      "cell_type": "code",
      "execution_count": null,
      "metadata": {
        "id": "zOytgYq8tuQU"
      },
      "outputs": [],
      "source": []
    },
    {
      "cell_type": "code",
      "execution_count": null,
      "metadata": {
        "id": "-U1dNhVYtuQU"
      },
      "outputs": [],
      "source": []
    }
  ],
  "metadata": {
    "kernelspec": {
      "display_name": "Python 3 (ipykernel)",
      "language": "python",
      "name": "python3"
    },
    "language_info": {
      "codemirror_mode": {
        "name": "ipython",
        "version": 3
      },
      "file_extension": ".py",
      "mimetype": "text/x-python",
      "name": "python",
      "nbconvert_exporter": "python",
      "pygments_lexer": "ipython3",
      "version": "3.9.12"
    },
    "colab": {
      "provenance": []
    }
  },
  "nbformat": 4,
  "nbformat_minor": 0
}