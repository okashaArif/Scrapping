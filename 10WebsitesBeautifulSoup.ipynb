{
  "cells": [
    {
      "cell_type": "code",
      "execution_count": null,
      "id": "e34af57b",
      "metadata": {
        "id": "e34af57b"
      },
      "outputs": [],
      "source": [
        "from bs4 import BeautifulSoup\n",
        "import requests\n",
        "import pandas as pd"
      ]
    },
    {
      "cell_type": "code",
      "execution_count": null,
      "id": "25d3cd14",
      "metadata": {
        "id": "25d3cd14"
      },
      "outputs": [],
      "source": [
        "df= pd.DataFrame(columns=['Title','Date','HyperLinks','content'])"
      ]
    },
    {
      "cell_type": "code",
      "execution_count": null,
      "id": "d8328e30",
      "metadata": {
        "id": "d8328e30"
      },
      "outputs": [],
      "source": [
        "def scrap(website):\n",
        "    result=requests.get(website).text\n",
        "    soup=BeautifulSoup(result,'lxml')\n",
        "    box=soup.find('h2',attrs={'class': 'story__title'})\n",
        "    date=soup.find('span',attrs={'class': 'timestamp--date'})\n",
        "    link=soup.find('div',class_='template__main')\n",
        "    links=link.find_all('a')\n",
        "    links=[i.get('href') for i in links]\n",
        "    para=soup.find('div',attrs={'class': 'story__content'})\n",
        "    paras=para.find_all('p')\n",
        "    paras=[i.text for i in paras]\n",
        "    title= box.text\n",
        "    title=title.encode(\"ascii\", \"ignore\")\n",
        "    title = title.decode()\n",
        "    return \"\".join(title), date.text, \"\".join(links), \"\".join(paras)\n",
        "def add(title,date,links,content):\n",
        "    df['Title']=title\n",
        "    df['Date']=date\n",
        "    df['HyperLinks']=links\n",
        "    df['content']=content"
      ]
    },
    {
      "cell_type": "code",
      "execution_count": null,
      "id": "d6c53da1",
      "metadata": {
        "id": "d6c53da1"
      },
      "outputs": [],
      "source": [
        "website=[\"https://www.dawn.com/news/1787852/we-will-truly-bring-about-naya-pakistan-vows-tareen-at-ipp-workers-convention\",\n",
        "\"https://www.dawn.com/news/1787822/gaza-activist-on-speaking-tour-in-france-detained-awaiting-deportation\",\n",
        "\"https://www.dawn.com/news/1787805/keeping-lights-off-undocumented-afghans-go-underground-in-pakistan\",\n",
        "\"https://www.dawn.com/news/1787792/world-cup-new-zealand-win-toss-and-elect-to-field-against-sri-lanka-in-must-win-game\",\n",
        "\"https://www.dawn.com/news/1787787/dna-samples-of-prime-suspect-match-in-khairpur-maid-murder-case-minister\",\n",
        "\"https://www.dawn.com/news/1781417/a-political-realignment-the-politicians-who-have-parted-ways-with-imrans-pti-since-may-9\",\n",
        "\"https://www.dawn.com/news/1787770/at-eco-summit-2023-pm-kakar-calls-for-holding-israel-to-account-for-its-actions-in-gaza\",\n",
        "\"https://www.dawn.com/news/1787230/ceasefire-or-humanitarian-pause-heres-what-these-terms-mean-for-gaza\",\n",
        "\"https://www.dawn.com/news/1787776/president-alvi-pm-kakar-urge-nation-to-follow-iqbals-philosophy-to-make-country-prosperous\",\n",
        "\"https://www.dawn.com/news/1787775/england-eye-proper-performance-against-pakistan-says-buttler\"]"
      ]
    },
    {
      "cell_type": "code",
      "execution_count": null,
      "id": "485527c4",
      "metadata": {
        "id": "485527c4"
      },
      "outputs": [],
      "source": [
        "titleL=[];dateL=[];linksL=[];parasL=[]\n",
        "for i in website:\n",
        "    title,date,links,paras= scrap(i)\n",
        "    titleL.append(title)\n",
        "    dateL.append(date)\n",
        "    linksL.append(links)\n",
        "    parasL.append(paras)\n",
        "add(titleL,dateL,linksL,parasL)"
      ]
    },
    {
      "cell_type": "code",
      "execution_count": null,
      "id": "df4f4234",
      "metadata": {
        "id": "df4f4234"
      },
      "outputs": [],
      "source": [
        "df"
      ]
    },
    {
      "cell_type": "code",
      "execution_count": null,
      "id": "d79c7d9c",
      "metadata": {
        "id": "d79c7d9c"
      },
      "outputs": [],
      "source": [
        "df.to_csv('assignment2.csv')"
      ]
    },
    {
      "cell_type": "code",
      "execution_count": null,
      "id": "9cb2db29",
      "metadata": {
        "id": "9cb2db29"
      },
      "outputs": [],
      "source": [
        "df=pd.read_csv('assignment2.csv',index_col=0)"
      ]
    },
    {
      "cell_type": "code",
      "execution_count": null,
      "id": "0c7c3f95",
      "metadata": {
        "id": "0c7c3f95"
      },
      "outputs": [],
      "source": [
        "df['content']"
      ]
    },
    {
      "cell_type": "code",
      "source": [
        "df_column = df['content']"
      ],
      "metadata": {
        "id": "_CF4ZNMQqFTX"
      },
      "id": "_CF4ZNMQqFTX",
      "execution_count": null,
      "outputs": []
    },
    {
      "cell_type": "code",
      "source": [
        "df_column.to_csv('content.csv', header=False)"
      ],
      "metadata": {
        "id": "OpJu0XqOq9FC"
      },
      "id": "OpJu0XqOq9FC",
      "execution_count": null,
      "outputs": []
    },
    {
      "cell_type": "code",
      "source": [
        "import numpy as np\n",
        "array_column = np.array(df_column).T\n",
        "np.savetxt('column_wise_data_np.csv', array_column, delimiter=',', fmt='%s')"
      ],
      "metadata": {
        "id": "pwHaa0x0q-kH"
      },
      "id": "pwHaa0x0q-kH",
      "execution_count": null,
      "outputs": []
    },
    {
      "cell_type": "code",
      "source": [
        "df1= pd.DataFrame()"
      ],
      "metadata": {
        "id": "E8K9HcWesJHN"
      },
      "id": "E8K9HcWesJHN",
      "execution_count": null,
      "outputs": []
    },
    {
      "cell_type": "code",
      "source": [
        "df1['raw-data']= np.array(df_column)"
      ],
      "metadata": {
        "id": "NoBoIEOksjNR"
      },
      "id": "NoBoIEOksjNR",
      "execution_count": null,
      "outputs": []
    },
    {
      "cell_type": "code",
      "source": [
        "df1"
      ],
      "metadata": {
        "id": "H1E-_r6psqOh"
      },
      "id": "H1E-_r6psqOh",
      "execution_count": null,
      "outputs": []
    },
    {
      "cell_type": "code",
      "source": [
        "df1.to_csv(\"scrap_raw_data.csv\", index=True)"
      ],
      "metadata": {
        "id": "th2dXTq7sq6Q"
      },
      "id": "th2dXTq7sq6Q",
      "execution_count": null,
      "outputs": []
    },
    {
      "cell_type": "code",
      "source": [],
      "metadata": {
        "id": "JDXzuO8KsuLs"
      },
      "id": "JDXzuO8KsuLs",
      "execution_count": null,
      "outputs": []
    }
  ],
  "metadata": {
    "kernelspec": {
      "display_name": "Python 3 (ipykernel)",
      "language": "python",
      "name": "python3"
    },
    "language_info": {
      "codemirror_mode": {
        "name": "ipython",
        "version": 3
      },
      "file_extension": ".py",
      "mimetype": "text/x-python",
      "name": "python",
      "nbconvert_exporter": "python",
      "pygments_lexer": "ipython3",
      "version": "3.11.4"
    },
    "colab": {
      "provenance": []
    }
  },
  "nbformat": 4,
  "nbformat_minor": 5
}